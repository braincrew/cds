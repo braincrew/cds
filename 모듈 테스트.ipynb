{
 "cells": [
  {
   "cell_type": "code",
   "execution_count": 2,
   "id": "coated-recorder",
   "metadata": {},
   "outputs": [],
   "source": [
    "from mySUNI import cds"
   ]
  },
  {
   "cell_type": "code",
   "execution_count": 3,
   "id": "stock-money",
   "metadata": {},
   "outputs": [
    {
     "data": {
      "text/html": [
       "<div>\n",
       "<style scoped>\n",
       "    .dataframe tbody tr th:only-of-type {\n",
       "        vertical-align: middle;\n",
       "    }\n",
       "\n",
       "    .dataframe tbody tr th {\n",
       "        vertical-align: top;\n",
       "    }\n",
       "\n",
       "    .dataframe thead th {\n",
       "        text-align: right;\n",
       "    }\n",
       "</style>\n",
       "<table border=\"1\" class=\"dataframe\">\n",
       "  <thead>\n",
       "    <tr style=\"text-align: right;\">\n",
       "      <th></th>\n",
       "      <th>워크샵</th>\n",
       "    </tr>\n",
       "  </thead>\n",
       "  <tbody>\n",
       "    <tr>\n",
       "      <th>0</th>\n",
       "      <td>mySUNI-WorkShop-00-Python</td>\n",
       "    </tr>\n",
       "    <tr>\n",
       "      <th>1</th>\n",
       "      <td>mySUNI-WorkShop-01-StepWalk</td>\n",
       "    </tr>\n",
       "    <tr>\n",
       "      <th>2</th>\n",
       "      <td>mySUNI-WorkShop-02-Pandas</td>\n",
       "    </tr>\n",
       "    <tr>\n",
       "      <th>3</th>\n",
       "      <td>mySUNI-WorkShop-03-타이타닉 생존자 분석</td>\n",
       "    </tr>\n",
       "    <tr>\n",
       "      <th>4</th>\n",
       "      <td>mySUNI-WorkShop-04-타이타닉 생존자 예측</td>\n",
       "    </tr>\n",
       "    <tr>\n",
       "      <th>5</th>\n",
       "      <td>mySUNI-WorkShop-06-웨이퍼 불량 유형 분류</td>\n",
       "    </tr>\n",
       "    <tr>\n",
       "      <th>6</th>\n",
       "      <td>mySUNI-WorkShop-07-따릉이 대여량 예측</td>\n",
       "    </tr>\n",
       "    <tr>\n",
       "      <th>7</th>\n",
       "      <td>mySUNI-WorkShop-08-집 값 예측</td>\n",
       "    </tr>\n",
       "    <tr>\n",
       "      <th>8</th>\n",
       "      <td>mySUNI-WorkShop-09-머신러닝 연습</td>\n",
       "    </tr>\n",
       "  </tbody>\n",
       "</table>\n",
       "</div>"
      ],
      "text/plain": [
       "                               워크샵\n",
       "0        mySUNI-WorkShop-00-Python\n",
       "1      mySUNI-WorkShop-01-StepWalk\n",
       "2        mySUNI-WorkShop-02-Pandas\n",
       "3   mySUNI-WorkShop-03-타이타닉 생존자 분석\n",
       "4   mySUNI-WorkShop-04-타이타닉 생존자 예측\n",
       "5  mySUNI-WorkShop-06-웨이퍼 불량 유형 분류\n",
       "6    mySUNI-WorkShop-07-따릉이 대여량 예측\n",
       "7        mySUNI-WorkShop-08-집 값 예측\n",
       "8       mySUNI-WorkShop-09-머신러닝 연습"
      ]
     },
     "metadata": {},
     "output_type": "display_data"
    }
   ],
   "source": [
    "cds.list_workshop()"
   ]
  },
  {
   "cell_type": "code",
   "execution_count": 4,
   "id": "crude-studio",
   "metadata": {
    "scrolled": true
   },
   "outputs": [
    {
     "name": "stdout",
     "output_type": "stream",
     "text": [
      "워크샵: ['mySUNI-WorkShop-01-StepWalk-실습.ipynb']\n",
      "==============================\n",
      "파일 정보\n",
      "\n",
      "저장 위치:\t workshop\\mySUNI-WorkShop-01-StepWalk\\mySUNI-WorkShop-01-StepWalk-실습.ipynb\n",
      "\n",
      "==============================\n"
     ]
    }
   ],
   "source": [
    "cds.download_workshop('mySUNI-WorkShop-01-StepWalk')"
   ]
  },
  {
   "cell_type": "code",
   "execution_count": 5,
   "id": "agricultural-louisiana",
   "metadata": {},
   "outputs": [
    {
     "name": "stdout",
     "output_type": "stream",
     "text": [
      "워크샵: ['mySUNI-WorkShop-01-StepWalk-해설.ipynb']\n",
      "==============================\n",
      "파일 정보\n",
      "\n",
      "저장 위치:\t workshop\\mySUNI-WorkShop-01-StepWalk\\mySUNI-WorkShop-01-StepWalk-해설.ipynb\n",
      "\n",
      "==============================\n"
     ]
    }
   ],
   "source": [
    "cds.download_workshop('mySUNI-WorkShop-01-StepWalk', sol=True)"
   ]
  },
  {
   "cell_type": "code",
   "execution_count": null,
   "id": "nearby-vessel",
   "metadata": {},
   "outputs": [],
   "source": []
  },
  {
   "cell_type": "code",
   "execution_count": null,
   "id": "separate-singing",
   "metadata": {},
   "outputs": [],
   "source": []
  },
  {
   "cell_type": "code",
   "execution_count": null,
   "id": "future-correlation",
   "metadata": {},
   "outputs": [],
   "source": []
  }
 ],
 "metadata": {
  "kernelspec": {
   "display_name": "Python 3",
   "language": "python",
   "name": "python3"
  },
  "language_info": {
   "codemirror_mode": {
    "name": "ipython",
    "version": 3
   },
   "file_extension": ".py",
   "mimetype": "text/x-python",
   "name": "python",
   "nbconvert_exporter": "python",
   "pygments_lexer": "ipython3",
   "version": "3.8.7"
  }
 },
 "nbformat": 4,
 "nbformat_minor": 5
}
