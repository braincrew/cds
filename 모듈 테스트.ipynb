{
 "cells": [
  {
   "cell_type": "code",
   "execution_count": 6,
   "id": "coated-recorder",
   "metadata": {},
   "outputs": [],
   "source": [
    "from mySUNI import cds"
   ]
  },
  {
   "cell_type": "code",
   "execution_count": 8,
   "id": "nearby-vessel",
   "metadata": {},
   "outputs": [],
   "source": [
    "project_name = \"공유 킥보드 대여량 예측\" # 프로젝트 이름\n",
    "class_info = \"2차수 B반\" # 차수 정보"
   ]
  },
  {
   "cell_type": "code",
   "execution_count": 9,
   "id": "future-correlation",
   "metadata": {},
   "outputs": [],
   "source": [
    "cds.project.edu_rnd = class_info.split()[0]\n",
    "cds.project.edu_class = class_info.split()[1]"
   ]
  },
  {
   "cell_type": "code",
   "execution_count": 11,
   "id": "separate-singing",
   "metadata": {},
   "outputs": [
    {
     "name": "stdout",
     "output_type": "stream",
     "text": [
      "제출에 성공하였습니다. 그동안 수고 많으셨습니다.\n"
     ]
    }
   ],
   "source": [
    "cds.end_project('배기민', r'x:\\03.WorkSpace\\02. mySUNI\\cds\\모듈 테스트.ipynb')"
   ]
  },
  {
   "cell_type": "code",
   "execution_count": 1,
   "id": "358407e3",
   "metadata": {},
   "outputs": [
    {
     "data": {
      "text/plain": [
       "dict_keys(['타이타닉 생존자 예측', '자전거 대여량 예측', '상품 구매 예측', '주택 가격 예측', '대출 상환 능력 예측', '웨이퍼 맵 불량 유형 분류', '빌딩 전력 소모량 예측', '따릉이 대여량 예측', 'SK GAS 사용자 구매 예측', '패션이미지 분류', '손글씨 이미지 분류', '영화리뷰 감정 분석', '성인 소득 분류', '전력 사용량 예측', '중고차 가격 예측', '공유 킥보드 대여량 예측'])"
      ]
     },
     "execution_count": 1,
     "metadata": {},
     "output_type": "execute_result"
    }
   ],
   "source": [
    "import json\n",
    "with open('mySUNI/data/project.json', 'r') as f:\n",
    "    data = json.load(f)\n",
    "data.keys()"
   ]
  },
  {
   "cell_type": "code",
   "execution_count": 1,
   "id": "cbed48f1",
   "metadata": {},
   "outputs": [
    {
     "data": {
      "text/plain": [
       "{'data.zip': 'https://www.dropbox.com/s/y96aywou688ill2/data.zip?dl=1'}"
      ]
     },
     "execution_count": 1,
     "metadata": {},
     "output_type": "execute_result"
    }
   ],
   "source": [
    "import json\n",
    "with open('mySUNI/data/project.json', 'r') as f:\n",
    "    data = json.load(f)\n",
    "data['대출 상환 능력 예측']"
   ]
  },
  {
   "cell_type": "code",
   "execution_count": 2,
   "id": "5ee1ad6a",
   "metadata": {},
   "outputs": [],
   "source": [
    "data['범주형 데이터 이진분류'] = {\n",
    "    'train.csv':'http://sk.jaen.kr/download?download_path=%2Fdata%2Ffiles%2FmySUNI%2F05.+%EB%8D%B0%EC%9D%B4%ED%84%B0%ED%8C%8C%EC%9D%BC%2Fproject%2F09.+CFEC%2Ftrain.csv',\n",
    "    'test.csv':'http://sk.jaen.kr/download?download_path=%2Fdata%2Ffiles%2FmySUNI%2F05.+%EB%8D%B0%EC%9D%B4%ED%84%B0%ED%8C%8C%EC%9D%BC%2Fproject%2F09.+CFEC%2Ftest.csv',\n",
    "    'submission.csv':'http://sk.jaen.kr/download?download_path=%2Fdata%2Ffiles%2FmySUNI%2F05.+%EB%8D%B0%EC%9D%B4%ED%84%B0%ED%8C%8C%EC%9D%BC%2Fproject%2F09.+CFEC%2Fsubmission.csv',\n",
    "}"
   ]
  },
  {
   "cell_type": "code",
   "execution_count": 3,
   "id": "f91e1791",
   "metadata": {},
   "outputs": [],
   "source": [
    "with open('mySUNI/data/project.json', 'w') as f:\n",
    "    json.dump(data, f)"
   ]
  },
  {
   "cell_type": "code",
   "execution_count": 1,
   "id": "09b1267d",
   "metadata": {},
   "outputs": [],
   "source": [
    "import json\n",
    "with open('mySUNI/data/project.json', 'r') as f:\n",
    "    data = json.load(f)\n",
    "\n",
    "data['에너지 사용량 예측'] = {\n",
    "    'data.zip':'http://sk.jaen.kr:8080/project/11. GEP/data',\n",
    "}\n",
    "\n",
    "with open('mySUNI/data/project.json', 'w') as f:\n",
    "    json.dump(data, f)"
   ]
  },
  {
   "cell_type": "code",
   "execution_count": 1,
   "id": "8f6399e6",
   "metadata": {},
   "outputs": [
    {
     "data": {
      "text/plain": [
       "<module 'mySUNI.cds' from 'x:\\\\03.WorkSpace\\\\02. mySUNI\\\\cds\\\\mySUNI\\\\cds.py'>"
      ]
     },
     "execution_count": 1,
     "metadata": {},
     "output_type": "execute_result"
    }
   ],
   "source": [
    "from mySUNI import cds\n",
    "cds"
   ]
  },
  {
   "cell_type": "code",
   "execution_count": 1,
   "id": "011bbad5",
   "metadata": {},
   "outputs": [
    {
     "name": "stdout",
     "output_type": "stream",
     "text": [
      "=============================================\n",
      "패키지버전: 1.4.4\n",
      "=============================================\n",
      "프로젝트명: 운전자 보험 청구 확률 예측\n",
      "차수 정보 : 1차수 A반\n",
      "이  메  일: skh_ml4@sk.com\n",
      "=============================================\n"
     ]
    }
   ],
   "source": [
    "import mySUNI\n",
    "from mySUNI import cds, utils\n",
    "\n",
    "project_name = \"운전자 보험 청구 확률 예측\" # 프로젝트 이름\n",
    "class_info = \"1차수 A반\" # 차수 정보\n",
    "email = \"skh_ml4@sk.com\" # 회사 이메일을 넣어주세요. (~~~@sk.com) [평가시스템, 채팅시스템에서 사용하는 이메일]\n",
    "\n",
    "print('===' * 15)\n",
    "print(f'패키지버전: {mySUNI.__version__}')\n",
    "print('===' * 15)\n",
    "\n",
    "project = cds.Project(project_name, class_info, email)\n",
    "project.edu_name = 'HYLV4'\n",
    "\n",
    "print(f'프로젝트명: {project_name}\\n차수 정보 : {class_info}\\n이  메  일: {email}')\n",
    "print('===' * 15)\n",
    "\n",
    "# 이메일 설정 확인\n",
    "if not project.email:\n",
    "    raise print(\"[이메일이 누락되었습니다] 이메일을 설정해 주세요↑↑↑\")\n",
    "\n",
    "# 다운로드 프로젝트 파일\n",
    "#cds.download_project(project_name, class_info, email)"
   ]
  },
  {
   "cell_type": "code",
   "execution_count": 2,
   "id": "6e1ecfb7",
   "metadata": {},
   "outputs": [
    {
     "data": {
      "text/html": [
       "<div>\n",
       "<style scoped>\n",
       "    .dataframe tbody tr th:only-of-type {\n",
       "        vertical-align: middle;\n",
       "    }\n",
       "\n",
       "    .dataframe tbody tr th {\n",
       "        vertical-align: top;\n",
       "    }\n",
       "\n",
       "    .dataframe thead th {\n",
       "        text-align: right;\n",
       "    }\n",
       "</style>\n",
       "<table border=\"1\" class=\"dataframe\">\n",
       "  <thead>\n",
       "    <tr style=\"text-align: right;\">\n",
       "      <th></th>\n",
       "      <th>id</th>\n",
       "      <th>target</th>\n",
       "    </tr>\n",
       "  </thead>\n",
       "  <tbody>\n",
       "    <tr>\n",
       "      <th>0</th>\n",
       "      <td>0</td>\n",
       "      <td>0.0364</td>\n",
       "    </tr>\n",
       "    <tr>\n",
       "      <th>1</th>\n",
       "      <td>1</td>\n",
       "      <td>0.0364</td>\n",
       "    </tr>\n",
       "    <tr>\n",
       "      <th>2</th>\n",
       "      <td>2</td>\n",
       "      <td>0.0364</td>\n",
       "    </tr>\n",
       "    <tr>\n",
       "      <th>3</th>\n",
       "      <td>3</td>\n",
       "      <td>0.0364</td>\n",
       "    </tr>\n",
       "    <tr>\n",
       "      <th>4</th>\n",
       "      <td>4</td>\n",
       "      <td>0.0364</td>\n",
       "    </tr>\n",
       "    <tr>\n",
       "      <th>...</th>\n",
       "      <td>...</td>\n",
       "      <td>...</td>\n",
       "    </tr>\n",
       "    <tr>\n",
       "      <th>892811</th>\n",
       "      <td>1488022</td>\n",
       "      <td>0.0364</td>\n",
       "    </tr>\n",
       "    <tr>\n",
       "      <th>892812</th>\n",
       "      <td>1488023</td>\n",
       "      <td>0.0364</td>\n",
       "    </tr>\n",
       "    <tr>\n",
       "      <th>892813</th>\n",
       "      <td>1488024</td>\n",
       "      <td>0.0364</td>\n",
       "    </tr>\n",
       "    <tr>\n",
       "      <th>892814</th>\n",
       "      <td>1488025</td>\n",
       "      <td>0.0364</td>\n",
       "    </tr>\n",
       "    <tr>\n",
       "      <th>892815</th>\n",
       "      <td>1488026</td>\n",
       "      <td>0.0364</td>\n",
       "    </tr>\n",
       "  </tbody>\n",
       "</table>\n",
       "<p>892816 rows × 2 columns</p>\n",
       "</div>"
      ],
      "text/plain": [
       "             id  target\n",
       "0             0  0.0364\n",
       "1             1  0.0364\n",
       "2             2  0.0364\n",
       "3             3  0.0364\n",
       "4             4  0.0364\n",
       "...         ...     ...\n",
       "892811  1488022  0.0364\n",
       "892812  1488023  0.0364\n",
       "892813  1488024  0.0364\n",
       "892814  1488025  0.0364\n",
       "892815  1488026  0.0364\n",
       "\n",
       "[892816 rows x 2 columns]"
      ]
     },
     "metadata": {},
     "output_type": "display_data"
    },
    {
     "name": "stdout",
     "output_type": "stream",
     "text": [
      "파일을 저장하였습니다. 파일명: submission-15-40-16.csv\n",
      "변환 에러 발생 : <html>\n",
      "<head><title>500 Internal Server Error</title></head>\n",
      "<body bgcolor=\"white\">\n",
      "<center><h1>500 Internal Server Error</h1></center>\n",
      "<hr><center>nginx/1.14.0 (Ubuntu)</center>\n",
      "</body>\n",
      "</html>\n",
      "\n"
     ]
    }
   ],
   "source": [
    "import pandas as pd\n",
    "# 예측 결과 업데이트\n",
    "submission = pd.read_csv(os.path.join('data', project_name, 'submission.csv'))\n",
    "display(submission)\n",
    "\n",
    "# 제출\n",
    "project.email = email\n",
    "project.submit(submission)"
   ]
  },
  {
   "cell_type": "code",
   "execution_count": 2,
   "id": "dab7ae5d",
   "metadata": {},
   "outputs": [
    {
     "data": {
      "text/plain": [
       "{'info': '서울시 따릉이 자전거 대여량 정보',\n",
       " 'data': ['http://sk.jaen.kr:8080/datasets/seoul_bicycle.csv'],\n",
       " 'filename': ['seoul_bicycle.csv']}"
      ]
     },
     "execution_count": 2,
     "metadata": {},
     "output_type": "execute_result"
    }
   ],
   "source": [
    "import json\n",
    "with open('mySUNI/data/dataset.json', 'r') as f:\n",
    "    data = json.load(f)\n"
   ]
  },
  {
   "cell_type": "code",
   "execution_count": 3,
   "id": "cbfe1942",
   "metadata": {},
   "outputs": [],
   "source": [
    "data['dogscats.zip'] = {'info': '서울시 따릉이 자전거 대여량 정보',\n",
    " 'data': ['http://sk.jaen.kr:8080/datasets/dogscats.zip'],\n",
    " 'filename': ['dogscats.zip']\n",
    " }"
   ]
  },
  {
   "cell_type": "code",
   "execution_count": 4,
   "id": "b93a43b0",
   "metadata": {},
   "outputs": [],
   "source": [
    "with open('mySUNI/data/dataset.json', 'w') as f:\n",
    "    json.dump(data, f)"
   ]
  },
  {
   "cell_type": "code",
   "execution_count": null,
   "id": "7494d0ef",
   "metadata": {},
   "outputs": [],
   "source": []
  }
 ],
 "metadata": {
  "interpreter": {
   "hash": "33d5828a131b88d27dde8504b0b20ca9ac23dccd1efa9c9bd718496499b93b45"
  },
  "kernelspec": {
   "display_name": "Python 3.10.2 64-bit",
   "language": "python",
   "name": "python3"
  },
  "language_info": {
   "codemirror_mode": {
    "name": "ipython",
    "version": 3
   },
   "file_extension": ".py",
   "mimetype": "text/x-python",
   "name": "python",
   "nbconvert_exporter": "python",
   "pygments_lexer": "ipython3",
   "version": "3.10.2"
  }
 },
 "nbformat": 4,
 "nbformat_minor": 5
}
