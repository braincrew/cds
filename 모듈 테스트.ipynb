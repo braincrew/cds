{
 "cells": [
  {
   "cell_type": "code",
   "execution_count": 6,
   "id": "coated-recorder",
   "metadata": {},
   "outputs": [],
   "source": [
    "from mySUNI import cds"
   ]
  },
  {
   "cell_type": "code",
   "execution_count": 8,
   "id": "nearby-vessel",
   "metadata": {},
   "outputs": [],
   "source": [
    "project_name = \"공유 킥보드 대여량 예측\" # 프로젝트 이름\n",
    "class_info = \"2차수 B반\" # 차수 정보"
   ]
  },
  {
   "cell_type": "code",
   "execution_count": 9,
   "id": "future-correlation",
   "metadata": {},
   "outputs": [],
   "source": [
    "cds.project.edu_rnd = class_info.split()[0]\n",
    "cds.project.edu_class = class_info.split()[1]"
   ]
  },
  {
   "cell_type": "code",
   "execution_count": 11,
   "id": "separate-singing",
   "metadata": {},
   "outputs": [
    {
     "name": "stdout",
     "output_type": "stream",
     "text": [
      "제출에 성공하였습니다. 그동안 수고 많으셨습니다.\n"
     ]
    }
   ],
   "source": [
    "cds.end_project('배기민', r'x:\\03.WorkSpace\\02. mySUNI\\cds\\모듈 테스트.ipynb')"
   ]
  },
  {
   "cell_type": "code",
   "execution_count": 4,
   "id": "358407e3",
   "metadata": {},
   "outputs": [
    {
     "data": {
      "text/plain": [
       "dict_keys(['타이타닉 생존자 예측', '자전거 대여량 예측', '상품 구매 예측', '주택 가격 예측', '대출 상환 능력 예측', '웨이퍼 맵 불량 유형 분류', '빌딩 전력 소모량 예측', '따릉이 대여량 예측', 'SK GAS 사용자 구매 예측', '패션이미지 분류', '손글씨 이미지 분류', '영화리뷰 감정 분석', '성인 소득 분류', '전력 사용량 예측', '중고차 가격 예측', '공유 킥보드 대여량 예측'])"
      ]
     },
     "execution_count": 4,
     "metadata": {},
     "output_type": "execute_result"
    }
   ],
   "source": [
    "import json\n",
    "\n",
    "with open('project.json', 'r') as f:\n",
    "    data = json.load(f)\n",
    "data.keys()"
   ]
  },
  {
   "cell_type": "code",
   "execution_count": 5,
   "id": "5ee1ad6a",
   "metadata": {},
   "outputs": [],
   "source": [
    "data['범주형 데이터 이진분류'] = {\n",
    "    'train.csv':'http://sk.jaen.kr/download?download_path=%2Fdata%2Ffiles%2FmySUNI%2F05.+%EB%8D%B0%EC%9D%B4%ED%84%B0%ED%8C%8C%EC%9D%BC%2Fproject%2F09.+CFEC%2Ftrain.csv',\n",
    "    'test.csv':'http://sk.jaen.kr/download?download_path=%2Fdata%2Ffiles%2FmySUNI%2F05.+%EB%8D%B0%EC%9D%B4%ED%84%B0%ED%8C%8C%EC%9D%BC%2Fproject%2F09.+CFEC%2Ftest.csv',\n",
    "    'submission.csv':'http://sk.jaen.kr/download?download_path=%2Fdata%2Ffiles%2FmySUNI%2F05.+%EB%8D%B0%EC%9D%B4%ED%84%B0%ED%8C%8C%EC%9D%BC%2Fproject%2F09.+CFEC%2Fsubmission.csv',\n",
    "}"
   ]
  },
  {
   "cell_type": "code",
   "execution_count": 7,
   "id": "f91e1791",
   "metadata": {},
   "outputs": [],
   "source": [
    "with open('project.json', 'w') as f:\n",
    "    json.dump(data, f)"
   ]
  },
  {
   "cell_type": "code",
   "execution_count": null,
   "id": "09b1267d",
   "metadata": {},
   "outputs": [],
   "source": []
  }
 ],
 "metadata": {
  "kernelspec": {
   "display_name": "Python 3",
   "language": "python",
   "name": "python3"
  },
  "language_info": {
   "codemirror_mode": {
    "name": "ipython",
    "version": 3
   },
   "file_extension": ".py",
   "mimetype": "text/x-python",
   "name": "python",
   "nbconvert_exporter": "python",
   "pygments_lexer": "ipython3",
   "version": "3.10.2"
  }
 },
 "nbformat": 4,
 "nbformat_minor": 5
}
