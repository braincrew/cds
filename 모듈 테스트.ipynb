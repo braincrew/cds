{
 "cells": [
  {
   "cell_type": "code",
   "execution_count": 6,
   "id": "coated-recorder",
   "metadata": {},
   "outputs": [],
   "source": [
    "from mySUNI import cds"
   ]
  },
  {
   "cell_type": "code",
   "execution_count": 8,
   "id": "nearby-vessel",
   "metadata": {},
   "outputs": [],
   "source": [
    "project_name = \"공유 킥보드 대여량 예측\" # 프로젝트 이름\n",
    "class_info = \"2차수 B반\" # 차수 정보"
   ]
  },
  {
   "cell_type": "code",
   "execution_count": 9,
   "id": "future-correlation",
   "metadata": {},
   "outputs": [],
   "source": [
    "cds.project.edu_rnd = class_info.split()[0]\n",
    "cds.project.edu_class = class_info.split()[1]"
   ]
  },
  {
   "cell_type": "code",
   "execution_count": 11,
   "id": "separate-singing",
   "metadata": {},
   "outputs": [
    {
     "name": "stdout",
     "output_type": "stream",
     "text": [
      "제출에 성공하였습니다. 그동안 수고 많으셨습니다.\n"
     ]
    }
   ],
   "source": [
    "cds.end_project('배기민', r'x:\\03.WorkSpace\\02. mySUNI\\cds\\모듈 테스트.ipynb')"
   ]
  },
  {
   "cell_type": "code",
   "execution_count": null,
   "id": "358407e3",
   "metadata": {},
   "outputs": [],
   "source": []
  }
 ],
 "metadata": {
  "kernelspec": {
   "display_name": "Python 3",
   "language": "python",
   "name": "python3"
  },
  "language_info": {
   "codemirror_mode": {
    "name": "ipython",
    "version": 3
   },
   "file_extension": ".py",
   "mimetype": "text/x-python",
   "name": "python",
   "nbconvert_exporter": "python",
   "pygments_lexer": "ipython3",
   "version": "3.10.2"
  }
 },
 "nbformat": 4,
 "nbformat_minor": 5
}
