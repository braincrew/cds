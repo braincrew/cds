{
 "cells": [
  {
   "cell_type": "markdown",
   "metadata": {},
   "source": [
    "# DataSet 추가"
   ]
  },
  {
   "cell_type": "code",
   "execution_count": 8,
   "metadata": {},
   "outputs": [],
   "source": [
    "import json\n",
    "with open('dataset.json', 'r') as f:\n",
    "    data = json.load(f)"
   ]
  },
  {
   "cell_type": "code",
   "execution_count": 5,
   "metadata": {
    "collapsed": true
   },
   "outputs": [
    {
     "data": {
      "text/plain": [
       "{'서울시자전거': {'info': '서울시 따릉이 자전거 대여량 정보',\n",
       "  'data': ['http://sk.jaen.kr:8080/datasets/seoul_bicycle.csv'],\n",
       "  'filename': ['seoul_bicycle.csv']},\n",
       " '서울시대중교통': {'info': '서울시 대중교통(지하철, 버스) 이용객 정보',\n",
       "  'data': ['http://sk.jaen.kr:8080/datasets/seoul_transportation.xlsx'],\n",
       "  'filename': ['seoul_transportation.xlsx']},\n",
       " '서울시주민등록인구': {'info': '서울시 주민등록인구 정보',\n",
       "  'data': ['http://sk.jaen.kr:8080/datasets/seoul_population.csv'],\n",
       "  'filename': ['seoul_population.csv']},\n",
       " '유가정보': {'info': '2019년 서울시 유가 정보',\n",
       "  'data': ['http://sk.jaen.kr:8080/datasets/gas_first_2019.csv',\n",
       "   'http://sk.jaen.kr:8080/datasets/gas_second_2019.csv'],\n",
       "  'filename': ['gas_first_2019.csv', 'gas_second_2019.csv']},\n",
       " 'PandasFileIO': {'info': 'Pandas File I/O 연습 문제용 데이터셋',\n",
       "  'data': ['http://sk.jaen.kr:8080/datasets/mySUNI.xlsx',\n",
       "   'http://sk.jaen.kr:8080/datasets/mySUNI_1.csv',\n",
       "   'http://sk.jaen.kr:8080/datasets/mySUNI_2.csv',\n",
       "   'http://sk.jaen.kr:8080/datasets/mySUNI_3.csv'],\n",
       "  'filename': ['mySUNI.xlsx', 'mySUNI_1.csv', 'mySUNI_2.csv', 'mySUNI_3.csv']},\n",
       " 'CCTV데이터분석': {'info': 'mySUNI WorkShop - CCTV 데이터 분석',\n",
       "  'data': ['http://sk.jaen.kr:8080/datasets/01. CCTV_in_Seoul.csv',\n",
       "   'http://sk.jaen.kr:8080/datasets/01. population_in_Seoul.xls'],\n",
       "  'filename': ['01. CCTV_in_Seoul.csv', '01. population_in_Seoul.xls']},\n",
       " '국민연금데이터분석': {'info': 'mySUNI WorkShop - 국민연금 데이터 분석',\n",
       "  'data': ['http://sk.jaen.kr:8080/datasets/national_pension.csv'],\n",
       "  'filename': ['national_pension.csv']},\n",
       " '민간아파트가격동향분석': {'info': 'mySUNI WorkShop - 민간 아파트 가격 동향 분석',\n",
       "  'data': ['http://sk.jaen.kr:8080/datasets/seoul_house_price.csv'],\n",
       "  'filename': ['seoul_house_price.csv']},\n",
       " '실거래가분석': {'info': 'mySUNI WorkShop - 2020년 아파트 실거래가 분석',\n",
       "  'data': ['http://sk.jaen.kr:8080/datasets/2020-seoul-apt-price.csv',\n",
       "   'http://sk.jaen.kr:8080/datasets/loc_code.xls'],\n",
       "  'filename': ['2020-seoul-apt-price.csv', 'loc_code.xlsx']},\n",
       " '유가가격분석': {'info': 'mySUNI WorkShop - 2020년 유가 가격 분석',\n",
       "  'data': ['http://sk.jaen.kr:8080/datasets/gas_first_2019.csv',\n",
       "   'http://sk.jaen.kr:8080/datasets/gas_second_2019.csv'],\n",
       "  'filename': ['gas_first_2019.csv', 'gas_second_2019.csv']},\n",
       " '중고차판매정보분석': {'info': 'mySUNI WorkShop - 중고차 판매 정보 분석',\n",
       "  'data': ['http://sk.jaen.kr:8080/datasets/gas_first_2019.csv',\n",
       "   'http://sk.jaen.kr:8080/datasets/gas_second_2019.csv'],\n",
       "  'filename': ['gas_first_2019.csv', 'gas_second_2019.csv']}}"
      ]
     },
     "execution_count": 5,
     "metadata": {},
     "output_type": "execute_result"
    }
   ],
   "source": [
    "# 데이터 추가\n",
    "data[데이터세트이름] = {\n",
    "    'info' : 데이터세트 설명문,\n",
    "    'data' : [다운로드 링크, ],\n",
    "    'filename': [저장할 파일명, ]\n",
    "}"
   ]
  },
  {
   "cell_type": "code",
   "execution_count": 7,
   "metadata": {},
   "outputs": [],
   "source": [
    "with open('dataset.json', 'w') as f:\n",
    "    json.dump(data, f)"
   ]
  },
  {
   "cell_type": "markdown",
   "metadata": {},
   "source": [
    "# Project 추가"
   ]
  },
  {
   "cell_type": "code",
   "execution_count": 11,
   "metadata": {},
   "outputs": [],
   "source": [
    "with open('project.json', 'r') as f:\n",
    "    data = json.load(f)"
   ]
  },
  {
   "cell_type": "code",
   "execution_count": 9,
   "metadata": {},
   "outputs": [],
   "source": [
    "data[프로젝트 이름] = {\n",
    "    저장할 파일명 : 다운로드 링크,\n",
    "}"
   ]
  },
  {
   "cell_type": "code",
   "execution_count": 10,
   "metadata": {},
   "outputs": [],
   "source": [
    "with open('project.json', 'w') as f:\n",
    "    json.dump(data, f)"
   ]
  },
  {
   "cell_type": "code",
   "execution_count": null,
   "metadata": {},
   "outputs": [],
   "source": []
  }
 ],
 "metadata": {
  "kernelspec": {
   "display_name": "Python 3",
   "language": "python",
   "name": "python3"
  },
  "language_info": {
   "codemirror_mode": {
    "name": "ipython",
    "version": 3
   },
   "file_extension": ".py",
   "mimetype": "text/x-python",
   "name": "python",
   "nbconvert_exporter": "python",
   "pygments_lexer": "ipython3",
   "version": "3.8.5"
  }
 },
 "nbformat": 4,
 "nbformat_minor": 4
}
