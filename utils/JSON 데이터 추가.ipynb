{
 "cells": [
  {
   "cell_type": "markdown",
   "metadata": {},
   "source": [
    "# DataSet 추가"
   ]
  },
  {
   "cell_type": "code",
   "execution_count": 1,
   "metadata": {},
   "outputs": [],
   "source": [
    "import json\n",
    "with open('../mySUNI/data/dataset.json', 'r') as f:\n",
    "    dataset = json.load(f)"
   ]
  },
  {
   "cell_type": "code",
   "execution_count": 5,
   "metadata": {},
   "outputs": [],
   "source": [
    "# 데이터 추가\n",
    "dataset[데이터세트이름] = {\n",
    "    'info' : 데이터세트 설명문,\n",
    "    'data' : [다운로드 링크, ],\n",
    "    'filename': [저장할 파일명, ]\n",
    "}"
   ]
  },
  {
   "cell_type": "code",
   "execution_count": 3,
   "metadata": {},
   "outputs": [],
   "source": [
    "with open('../mySUNI/data/dataset.json', 'w') as f:\n",
    "    json.dump(dataset, f)"
   ]
  },
  {
   "cell_type": "markdown",
   "metadata": {},
   "source": [
    "# Project 추가"
   ]
  },
  {
   "cell_type": "code",
   "execution_count": 1,
   "metadata": {},
   "outputs": [],
   "source": [
    "import json\n",
    "with open('../mySUNI/data/project.json', 'r') as f:\n",
    "    project = json.load(f)"
   ]
  },
  {
   "cell_type": "code",
   "execution_count": 2,
   "metadata": {},
   "outputs": [
    {
     "data": {
      "text/plain": [
       "{'타이타닉 생존자 예측': {'train.csv': 'http://sk.jaen.kr:8080/project/00.Titanic/train.csv',\n",
       "  'test.csv': 'http://sk.jaen.kr:8080/project/00.Titanic/test.csv',\n",
       "  'submission.csv': 'http://sk.jaen.kr:8080/project/00.Titanic/submission.csv'},\n",
       " '자전거 대여량 예측': {'train.csv': 'http://sk.jaen.kr:8080/project/01.Bike-Demand-Prediction/train.csv',\n",
       "  'test.csv': 'http://sk.jaen.kr:8080/project/01.Bike-Demand-Prediction/test.csv',\n",
       "  'submission.csv': 'http://sk.jaen.kr:8080/project/01.Bike-Demand-Prediction/submission.csv'},\n",
       " '상품 구매 예측': {'train.csv': 'http://sk.jaen.kr:8080/project/02.ECommerce-Customer-Purchase-Classification/train.csv',\n",
       "  'test.csv': 'http://sk.jaen.kr:8080/project/02.ECommerce-Customer-Purchase-Classification/test.csv',\n",
       "  'submission.csv': 'http://sk.jaen.kr:8080/project/02.ECommerce-Customer-Purchase-Classification/submission.csv'},\n",
       " '주택 가격 예측': {'train.csv': 'http://sk.jaen.kr:8080/project/04.House-Prices-Prediction/train.csv',\n",
       "  'test.csv': 'http://sk.jaen.kr:8080/project/04.House-Prices-Prediction/test.csv',\n",
       "  'submission.csv': 'http://sk.jaen.kr:8080/project/04.House-Prices-Prediction/submission.csv'},\n",
       " '대출 상환 능력 예측': {'data.zip': 'https://www.dropbox.com/s/y96aywou688ill2/data.zip?dl=1'},\n",
       " '웨이퍼 맵 불량 유형 분류': {'train.csv': 'http://sk.jaen.kr:8080/project/05.Wafer-Map-Defect-Classification/train.csv',\n",
       "  'test.csv': 'http://sk.jaen.kr:8080/project/05.Wafer-Map-Defect-Classification/test.csv',\n",
       "  'submission.csv': 'http://sk.jaen.kr:8080/project/05.Wafer-Map-Defect-Classification/submission.csv'},\n",
       " '빌딩 전력 소모량 예측': {'train.csv': 'http://sk.jaen.kr:8080/project/06.Building-Energy-Prediction/train.csv',\n",
       "  'test.csv': 'http://sk.jaen.kr:8080/project/06.Building-Energy-Prediction/test.csv',\n",
       "  'submission.csv': 'http://sk.jaen.kr:8080/project/06.Building-Energy-Prediction/submission.csv'},\n",
       " '따릉이 대여량 예측': {'train.csv': 'http://sk.jaen.kr:8080/project/08.Seoul-Bicycle/seoul_bicycle_train.csv',\n",
       "  'test.csv': 'http://sk.jaen.kr:8080/project/08.Seoul-Bicycle/seoul_bicycle_test.csv',\n",
       "  'submission.csv': 'http://sk.jaen.kr:8080/project/08.Seoul-Bicycle/seoul_bicycle_submission.csv'},\n",
       " 'SK GAS 사용자 구매 예측': {'train.csv': 'https://www.dropbox.com/s/2rhdsepy9t9a324/SK_GAS_PROJECT_TRAIN.csv?dl=1',\n",
       "  'submission.csv': 'https://www.dropbox.com/s/l9dmhmwfexveum3/SK_GAS_PROJECT_SAMPLE_SUBMISSION.csv?dl=1'},\n",
       " '패션이미지 분류': {'train.csv': 'https://www.dropbox.com/s/e5n10bepgfvuyng/train.csv?dl=1',\n",
       "  'test.csv': 'https://www.dropbox.com/s/cliuhx4iijf3ywh/test.csv?dl=1',\n",
       "  'submission.csv': 'https://www.dropbox.com/s/202420nkejdsxja/sample_submission.csv?dl=1'},\n",
       " '손글씨 이미지 분류': {'train.csv': 'https://www.dropbox.com/s/e5n10bepgfvuyng/train.csv?dl=1',\n",
       "  'test.csv': 'https://www.dropbox.com/s/cliuhx4iijf3ywh/test.csv?dl=1',\n",
       "  'submission.csv': 'https://www.dropbox.com/s/202420nkejdsxja/sample_submission.csv?dl=1'},\n",
       " '영화리뷰 감정 분석': {'train.csv': 'https://www.dropbox.com/s/6a8npsozoobug8z/train.csv?dl=1',\n",
       "  'test.csv': 'https://www.dropbox.com/s/dxzutwpnae55pba/test.csv?dl=1',\n",
       "  'submission.csv': 'https://www.dropbox.com/s/4pjk1q7pcde8e93/submission.csv?dl=1'},\n",
       " '성인 소득 분류': {'train.csv': 'https://www.dropbox.com/s/hq9hyakk3xv2prr/train.csv?dl=1',\n",
       "  'test.csv': 'https://www.dropbox.com/s/3zq381jdqmcbgpg/test.csv?dl=1',\n",
       "  'submission.csv': 'https://www.dropbox.com/s/6kx87renmtpe7pz/submission.csv?dl=1'},\n",
       " '전력 사용량 예측': {'train.csv': 'https://www.dropbox.com/s/hv7wtnir2rsvy3p/elec-train.csv?dl=1',\n",
       "  'test.csv': 'https://www.dropbox.com/s/tv4c5vcc2dx0fi2/elec-test.csv?dl=1',\n",
       "  'submission.csv': 'https://www.dropbox.com/s/n1ddgdlhok8bebl/elec-submission.csv?dl=1'},\n",
       " '중고차 가격 예측': {'train.csv': 'https://www.dropbox.com/s/n6ggjpxcbc9rgeq/train.csv?dl=1',\n",
       "  'test.csv': 'https://www.dropbox.com/s/ts6p3bpe7rmlbub/test.csv?dl=1',\n",
       "  'submission.csv': 'https://www.dropbox.com/s/veort5hy2t09smx/submission.csv?dl=1'},\n",
       " '공유 킥보드 대여량 예측': {'train.csv': 'https://www.dropbox.com/s/86p8vl9dsjjzdvw/train.csv?dl=1',\n",
       "  'test.csv': 'https://www.dropbox.com/s/72fz3ltervbpyn6/test.csv?dl=1',\n",
       "  'submission.csv': 'https://www.dropbox.com/s/ezkolhde02da9bf/submission.csv?dl=1'},\n",
       " '범주형 데이터 이진분류': {'train.csv': 'http://sk.jaen.kr/download?download_path=%2Fdata%2Ffiles%2FmySUNI%2F05.+%EB%8D%B0%EC%9D%B4%ED%84%B0%ED%8C%8C%EC%9D%BC%2Fproject%2F09.+CFEC%2Ftrain.csv',\n",
       "  'test.csv': 'http://sk.jaen.kr/download?download_path=%2Fdata%2Ffiles%2FmySUNI%2F05.+%EB%8D%B0%EC%9D%B4%ED%84%B0%ED%8C%8C%EC%9D%BC%2Fproject%2F09.+CFEC%2Ftest.csv',\n",
       "  'submission.csv': 'http://sk.jaen.kr/download?download_path=%2Fdata%2Ffiles%2FmySUNI%2F05.+%EB%8D%B0%EC%9D%B4%ED%84%B0%ED%8C%8C%EC%9D%BC%2Fproject%2F09.+CFEC%2Fsubmission.csv'},\n",
       " '운전자 보험 청구 확률 예측': {'train.csv': 'http://sk.jaen.kr:8080/project/10. PSSDP/train.csv',\n",
       "  'test.csv': 'http://sk.jaen.kr:8080/project/10. PSSDP/test.csv',\n",
       "  'submission.csv': 'http://sk.jaen.kr:8080/project/10. PSSDP/submission.csv'},\n",
       " '에너지 사용량 예측': {'data.zip': 'http://sk.jaen.kr:8080/project/11. GEP/data'},\n",
       " '개 고양이 분류': {'train.zip': 'https://www.dropbox.com/s/vcq6typ3sw65kb3/train.zip?dl=1',\n",
       "  'test.zip': 'https://www.dropbox.com/s/zcifc1nnzpn971z/test.zip?dl=1',\n",
       "  'submission.csv': 'https://www.dropbox.com/s/yfi79nde5ubbvni/submission.csv?dl=1'}}"
      ]
     },
     "execution_count": 2,
     "metadata": {},
     "output_type": "execute_result"
    }
   ],
   "source": [
    "project"
   ]
  },
  {
   "cell_type": "code",
   "execution_count": 3,
   "metadata": {},
   "outputs": [
    {
     "data": {
      "text/plain": [
       "{'train.csv': 'http://sk.jaen.kr:8080/project/06.Building-Energy-Prediction/train.csv',\n",
       " 'test.csv': 'http://sk.jaen.kr:8080/project/06.Building-Energy-Prediction/test.csv',\n",
       " 'submission.csv': 'http://sk.jaen.kr:8080/project/06.Building-Energy-Prediction/submission.csv'}"
      ]
     },
     "execution_count": 3,
     "metadata": {},
     "output_type": "execute_result"
    }
   ],
   "source": [
    "project['빌딩 전력 소모량 예측']"
   ]
  },
  {
   "cell_type": "code",
   "execution_count": 9,
   "metadata": {},
   "outputs": [],
   "source": [
    "project[프로젝트 이름] = {\n",
    "    저장할 파일명 : 다운로드 링크,\n",
    "}"
   ]
  },
  {
   "cell_type": "code",
   "execution_count": 7,
   "metadata": {},
   "outputs": [],
   "source": [
    "project['의료 보험비 예측'] = {\n",
    "    'train.csv' : 'https://www.dropbox.com/s/m9y102hqgky91q2/medical_charges_train.csv?dl=1',\n",
    "    'test.csv' : 'https://www.dropbox.com/s/p8rpvihzm5qxuw1/medical_charges_test.csv?dl=1',\n",
    "    'submission.csv' : 'https://www.dropbox.com/s/qfhn8a18m5wj6m1/medical_charges_submission.csv?dl=1',\n",
    "}"
   ]
  },
  {
   "cell_type": "code",
   "execution_count": 13,
   "metadata": {},
   "outputs": [],
   "source": [
    "project['개 고양이 분류'] = {\n",
    "    'train.zip' : 'https://www.dropbox.com/s/vcq6typ3sw65kb3/train.zip?dl=1',\n",
    "    'test.zip' : 'https://www.dropbox.com/s/zcifc1nnzpn971z/test.zip?dl=1',\n",
    "    'submission.csv' : 'https://www.dropbox.com/s/yfi79nde5ubbvni/submission.csv?dl=1',\n",
    "}"
   ]
  },
  {
   "cell_type": "code",
   "execution_count": 3,
   "metadata": {},
   "outputs": [],
   "source": [
    "project['공유 킥보드 대여량 예측'] = {\n",
    "    'train.csv' : 'https://www.dropbox.com/s/86p8vl9dsjjzdvw/train.csv?dl=1',\n",
    "    'test.csv' : 'https://www.dropbox.com/s/72fz3ltervbpyn6/test.csv?dl=1',\n",
    "    'submission.csv' : 'https://www.dropbox.com/s/ezkolhde02da9bf/submission.csv?dl=1',\n",
    "}"
   ]
  },
  {
   "cell_type": "code",
   "execution_count": 3,
   "metadata": {},
   "outputs": [],
   "source": [
    "project['중고차 가격 예측'] = {\n",
    "    'train.csv' : 'https://www.dropbox.com/s/n6ggjpxcbc9rgeq/train.csv?dl=1',\n",
    "    'test.csv' : 'https://www.dropbox.com/s/ts6p3bpe7rmlbub/test.csv?dl=1',\n",
    "    'submission.csv' : 'https://www.dropbox.com/s/veort5hy2t09smx/submission.csv?dl=1',\n",
    "}"
   ]
  },
  {
   "cell_type": "code",
   "execution_count": 8,
   "metadata": {},
   "outputs": [],
   "source": [
    "project['성인 소득 분류'] = {\n",
    "    'train.csv' : 'https://www.dropbox.com/s/hq9hyakk3xv2prr/train.csv?dl=1',\n",
    "    'test.csv' : 'https://www.dropbox.com/s/3zq381jdqmcbgpg/test.csv?dl=1',\n",
    "    'submission.csv' : 'https://www.dropbox.com/s/6kx87renmtpe7pz/submission.csv?dl=1',\n",
    "}"
   ]
  },
  {
   "cell_type": "code",
   "execution_count": 9,
   "metadata": {},
   "outputs": [],
   "source": [
    "project['영화리뷰 감정 분석'] = {\n",
    "    'train.csv' : 'https://www.dropbox.com/s/6a8npsozoobug8z/train.csv?dl=1',\n",
    "    'test.csv' : 'https://www.dropbox.com/s/dxzutwpnae55pba/test.csv?dl=1',\n",
    "    'submission.csv' : 'https://www.dropbox.com/s/4pjk1q7pcde8e93/submission.csv?dl=1',\n",
    "}"
   ]
  },
  {
   "cell_type": "code",
   "execution_count": 11,
   "metadata": {},
   "outputs": [],
   "source": [
    "project['손글씨 이미지 분류'] = {\n",
    "    'train.csv' : 'https://www.dropbox.com/s/e5n10bepgfvuyng/train.csv?dl=1',\n",
    "    'test.csv' : 'https://www.dropbox.com/s/cliuhx4iijf3ywh/test.csv?dl=1',\n",
    "    'submission.csv' : 'https://www.dropbox.com/s/202420nkejdsxja/sample_submission.csv?dl=1',\n",
    "}"
   ]
  },
  {
   "cell_type": "code",
   "execution_count": 15,
   "metadata": {},
   "outputs": [],
   "source": [
    "project['전력 사용량 예측'] = {\n",
    "    'train.csv' : 'https://www.dropbox.com/s/hv7wtnir2rsvy3p/elec-train.csv?dl=1',\n",
    "    'test.csv' : 'https://www.dropbox.com/s/tv4c5vcc2dx0fi2/elec-test.csv?dl=1',\n",
    "    'submission.csv' : 'https://www.dropbox.com/s/n1ddgdlhok8bebl/elec-submission.csv?dl=1',\n",
    "}"
   ]
  },
  {
   "cell_type": "code",
   "execution_count": null,
   "metadata": {},
   "outputs": [],
   "source": [
    "project['빌딩 전력 소모량 예측'] = {'building_metadata.csv': 'http://sk.jaen.kr:8080/project/06.Building-Energy-Prediction/building_metadata.csv',\n",
    " 'submission.csv': 'http://sk.jaen.kr:8080/project/06.Building-Energy-Prediction/submission.csv',\n",
    " 'test.csv': 'http://sk.jaen.kr:8080/project/06.Building-Energy-Prediction/test.csv',\n",
    " 'train.csv': 'http://sk.jaen.kr:8080/project/06.Building-Energy-Prediction/train.csv',\n",
    " 'weather_test.csv': 'http://sk.jaen.kr:8080/project/06.Building-Energy-Prediction/weather_test.csv',\n",
    " 'weather_train.csv': 'http://sk.jaen.kr:8080/project/06.Building-Energy-Prediction/weather_train.csv'\n",
    "}\n"
   ]
  },
  {
   "cell_type": "code",
   "execution_count": 12,
   "metadata": {},
   "outputs": [],
   "source": [
    "project['빌딩 전력 소모량 예측'] = {\n",
    " 'train.csv': 'http://sk.jaen.kr:8080/project/06.Building-Energy-Prediction/train.csv',\n",
    " 'test.csv': 'http://sk.jaen.kr:8080/project/06.Building-Energy-Prediction/test.csv',\n",
    " 'submission.csv': 'http://sk.jaen.kr:8080/project/06.Building-Energy-Prediction/submission.csv'\n",
    "}"
   ]
  },
  {
   "cell_type": "code",
   "execution_count": 10,
   "metadata": {},
   "outputs": [],
   "source": [
    "project = {\"\\ud0c0\\uc774\\ud0c0\\ub2c9 \\uc0dd\\uc874\\uc790 \\uc608\\uce21\": {\"train.csv\": \"http://sk.jaen.kr:8080/project/00.Titanic/train.csv\", \"test.csv\": \"http://sk.jaen.kr:8080/project/00.Titanic/test.csv\", \"submission.csv\": \"http://sk.jaen.kr:8080/project/00.Titanic/submission.csv\"}, \"\\uc790\\uc804\\uac70 \\ub300\\uc5ec\\ub7c9 \\uc608\\uce21\": {\"train.csv\": \"http://sk.jaen.kr:8080/project/01.Bike-Demand-Prediction/train.csv\", \"test.csv\": \"http://sk.jaen.kr:8080/project/01.Bike-Demand-Prediction/test.csv\", \"submission.csv\": \"http://sk.jaen.kr:8080/project/01.Bike-Demand-Prediction/submission.csv\"}, \"\\uc0c1\\ud488 \\uad6c\\ub9e4 \\uc608\\uce21\": {\"train.csv\": \"http://sk.jaen.kr:8080/project/02.ECommerce-Customer-Purchase-Classification/train.csv\", \"test.csv\": \"http://sk.jaen.kr:8080/project/02.ECommerce-Customer-Purchase-Classification/test.csv\", \"submission.csv\": \"http://sk.jaen.kr:8080/project/02.ECommerce-Customer-Purchase-Classification/submission.csv\"}, \"\\uc8fc\\ud0dd \\uac00\\uaca9 \\uc608\\uce21\": {\"train.csv\": \"http://sk.jaen.kr:8080/project/04.House-Prices-Prediction/train.csv\", \"test.csv\": \"http://sk.jaen.kr:8080/project/04.House-Prices-Prediction/test.csv\", \"submission.csv\": \"http://sk.jaen.kr:8080/project/04.House-Prices-Prediction/submission.csv\"}, \"\\ub300\\ucd9c \\uc0c1\\ud658 \\ub2a5\\ub825 \\uc608\\uce21\": {\"train.csv\": \"http://sk.jaen.kr:8080/project/03.Home-Credit-Risk-Classification/train.csv\", \"test.csv\": \"http://sk.jaen.kr:8080/project/03.Home-Credit-Risk-Classification/test.csv\", \"submission.csv\": \"http://sk.jaen.kr:8080/project/03.Home-Credit-Risk-Classification/submission.csv\", \"bureau.csv\": \"http://sk.jaen.kr:8080/project/03.Home-Credit-Risk-Classification/bureau.csv\", \"bureau_balance.csv\": \"http://sk.jaen.kr:8080/project/03.Home-Credit-Risk-Classification/bureau_balance.csv\", \"credit_card_balance.csv\": \"http://sk.jaen.kr:8080/project/03.Home-Credit-Risk-Classification/credit_card_balance.csv\", \"installments_payments.csv\": \"http://sk.jaen.kr:8080/project/03.Home-Credit-Risk-Classification/installments_payments.csv\", \"POS_CASH_balance.csv\": \"http://sk.jaen.kr:8080/project/03.Home-Credit-Risk-Classification/POS_CASH_balance.csv\", \"previous_application.csv\": \"http://sk.jaen.kr:8080/project/03.Home-Credit-Risk-Classification/previous_application.csv\"}, \"\\uc6e8\\uc774\\ud37c \\ub9f5 \\ubd88\\ub7c9 \\uc720\\ud615 \\ubd84\\ub958\": {\"train.csv\": \"http://sk.jaen.kr:8080/project/05.Wafer-Map-Defect-Classification/train.csv\", \"test.csv\": \"http://sk.jaen.kr:8080/project/05.Wafer-Map-Defect-Classification/test.csv\", \"submission.csv\": \"http://sk.jaen.kr:8080/project/05.Wafer-Map-Defect-Classification/submission.csv\"}, \"\\ube4c\\ub529 \\uc804\\ub825 \\uc18c\\ubaa8\\ub7c9 \\uc608\\uce21\": {\"building_metadata.csv\": \"http://sk.jaen.kr:8080/project/06.Building-Energy-Prediction/building_metadata.csv\", \"submission.csv\": \"http://sk.jaen.kr:8080/project/06.Building-Energy-Prediction/submission.csv\", \"test.csv\": \"http://sk.jaen.kr:8080/project/06.Building-Energy-Prediction/test.csv\", \"train.csv\": \"http://sk.jaen.kr:8080/project/06.Building-Energy-Prediction/train.csv\", \"weather_test.csv\": \"http://sk.jaen.kr:8080/project/06.Building-Energy-Prediction/weather_test.csv\", \"weather_train.csv\": \"http://sk.jaen.kr:8080/project/06.Building-Energy-Prediction/weather_train.csv\"}, \"\\ub530\\ub989\\uc774 \\ub300\\uc5ec\\ub7c9 \\uc608\\uce21\": {\"train.csv\": \"http://sk.jaen.kr:8080/project/08.Seoul-Bicycle/seoul_bicycle_train.csv\", \"test.csv\": \"http://sk.jaen.kr:8080/project/08.Seoul-Bicycle/seoul_bicycle_test.csv\", \"submission.csv\": \"http://sk.jaen.kr:8080/project/08.Seoul-Bicycle/seoul_bicycle_submission.csv\"}}"
   ]
  },
  {
   "cell_type": "code",
   "execution_count": 4,
   "metadata": {},
   "outputs": [
    {
     "data": {
      "text/plain": [
       "{'타이타닉 생존자 예측': {'train.csv': 'http://sk.jaen.kr:8080/project/00.Titanic/train.csv',\n",
       "  'test.csv': 'http://sk.jaen.kr:8080/project/00.Titanic/test.csv',\n",
       "  'submission.csv': 'http://sk.jaen.kr:8080/project/00.Titanic/submission.csv'},\n",
       " '자전거 대여량 예측': {'train.csv': 'http://sk.jaen.kr:8080/project/01.Bike-Demand-Prediction/train.csv',\n",
       "  'test.csv': 'http://sk.jaen.kr:8080/project/01.Bike-Demand-Prediction/test.csv',\n",
       "  'submission.csv': 'http://sk.jaen.kr:8080/project/01.Bike-Demand-Prediction/submission.csv'},\n",
       " '상품 구매 예측': {'train.csv': 'http://sk.jaen.kr:8080/project/02.ECommerce-Customer-Purchase-Classification/train.csv',\n",
       "  'test.csv': 'http://sk.jaen.kr:8080/project/02.ECommerce-Customer-Purchase-Classification/test.csv',\n",
       "  'submission.csv': 'http://sk.jaen.kr:8080/project/02.ECommerce-Customer-Purchase-Classification/submission.csv'},\n",
       " '주택 가격 예측': {'train.csv': 'http://sk.jaen.kr:8080/project/04.House-Prices-Prediction/train.csv',\n",
       "  'test.csv': 'http://sk.jaen.kr:8080/project/04.House-Prices-Prediction/test.csv',\n",
       "  'submission.csv': 'http://sk.jaen.kr:8080/project/04.House-Prices-Prediction/submission.csv'},\n",
       " '대출 상환 능력 예측': {'data.zip': 'https://www.dropbox.com/s/y96aywou688ill2/data.zip?dl=1'},\n",
       " '웨이퍼 맵 불량 유형 분류': {'train.csv': 'http://sk.jaen.kr:8080/project/05.Wafer-Map-Defect-Classification/train.csv',\n",
       "  'test.csv': 'http://sk.jaen.kr:8080/project/05.Wafer-Map-Defect-Classification/test.csv',\n",
       "  'submission.csv': 'http://sk.jaen.kr:8080/project/05.Wafer-Map-Defect-Classification/submission.csv'},\n",
       " '빌딩 전력 소모량 예측': {'train.csv': 'http://sk.jaen.kr:8080/project/06.Building-Energy-Prediction/train.csv',\n",
       "  'test.csv': 'http://sk.jaen.kr:8080/project/06.Building-Energy-Prediction/test.csv',\n",
       "  'submission.csv': 'http://sk.jaen.kr:8080/project/06.Building-Energy-Prediction/submission.csv'},\n",
       " '따릉이 대여량 예측': {'train.csv': 'http://sk.jaen.kr:8080/project/08.Seoul-Bicycle/seoul_bicycle_train.csv',\n",
       "  'test.csv': 'http://sk.jaen.kr:8080/project/08.Seoul-Bicycle/seoul_bicycle_test.csv',\n",
       "  'submission.csv': 'http://sk.jaen.kr:8080/project/08.Seoul-Bicycle/seoul_bicycle_submission.csv'},\n",
       " 'SK GAS 사용자 구매 예측': {'train.csv': 'https://www.dropbox.com/s/2rhdsepy9t9a324/SK_GAS_PROJECT_TRAIN.csv?dl=1',\n",
       "  'submission.csv': 'https://www.dropbox.com/s/l9dmhmwfexveum3/SK_GAS_PROJECT_SAMPLE_SUBMISSION.csv?dl=1'},\n",
       " '패션이미지 분류': {'train.csv': 'https://www.dropbox.com/s/e5n10bepgfvuyng/train.csv?dl=1',\n",
       "  'test.csv': 'https://www.dropbox.com/s/cliuhx4iijf3ywh/test.csv?dl=1',\n",
       "  'submission.csv': 'https://www.dropbox.com/s/202420nkejdsxja/sample_submission.csv?dl=1'},\n",
       " '손글씨 이미지 분류': {'train.csv': 'https://www.dropbox.com/s/e5n10bepgfvuyng/train.csv?dl=1',\n",
       "  'test.csv': 'https://www.dropbox.com/s/cliuhx4iijf3ywh/test.csv?dl=1',\n",
       "  'submission.csv': 'https://www.dropbox.com/s/202420nkejdsxja/sample_submission.csv?dl=1'},\n",
       " '영화리뷰 감정 분석': {'train.csv': 'https://www.dropbox.com/s/6a8npsozoobug8z/train.csv?dl=1',\n",
       "  'test.csv': 'https://www.dropbox.com/s/dxzutwpnae55pba/test.csv?dl=1',\n",
       "  'submission.csv': 'https://www.dropbox.com/s/4pjk1q7pcde8e93/submission.csv?dl=1'},\n",
       " '성인 소득 분류': {'train.csv': 'https://www.dropbox.com/s/hq9hyakk3xv2prr/train.csv?dl=1',\n",
       "  'test.csv': 'https://www.dropbox.com/s/3zq381jdqmcbgpg/test.csv?dl=1',\n",
       "  'submission.csv': 'https://www.dropbox.com/s/6kx87renmtpe7pz/submission.csv?dl=1'},\n",
       " '전력 사용량 예측': {'train.csv': 'https://www.dropbox.com/s/hv7wtnir2rsvy3p/elec-train.csv?dl=1',\n",
       "  'test.csv': 'https://www.dropbox.com/s/tv4c5vcc2dx0fi2/elec-test.csv?dl=1',\n",
       "  'submission.csv': 'https://www.dropbox.com/s/n1ddgdlhok8bebl/elec-submission.csv?dl=1'},\n",
       " '중고차 가격 예측': {'train.csv': 'https://www.dropbox.com/s/n6ggjpxcbc9rgeq/train.csv?dl=1',\n",
       "  'test.csv': 'https://www.dropbox.com/s/ts6p3bpe7rmlbub/test.csv?dl=1',\n",
       "  'submission.csv': 'https://www.dropbox.com/s/veort5hy2t09smx/submission.csv?dl=1'},\n",
       " '공유 킥보드 대여량 예측': {'train.csv': 'https://www.dropbox.com/s/86p8vl9dsjjzdvw/train.csv?dl=1',\n",
       "  'test.csv': 'https://www.dropbox.com/s/72fz3ltervbpyn6/test.csv?dl=1',\n",
       "  'submission.csv': 'https://www.dropbox.com/s/ezkolhde02da9bf/submission.csv?dl=1'},\n",
       " '범주형 데이터 이진분류': {'train.csv': 'http://sk.jaen.kr/download?download_path=%2Fdata%2Ffiles%2FmySUNI%2F05.+%EB%8D%B0%EC%9D%B4%ED%84%B0%ED%8C%8C%EC%9D%BC%2Fproject%2F09.+CFEC%2Ftrain.csv',\n",
       "  'test.csv': 'http://sk.jaen.kr/download?download_path=%2Fdata%2Ffiles%2FmySUNI%2F05.+%EB%8D%B0%EC%9D%B4%ED%84%B0%ED%8C%8C%EC%9D%BC%2Fproject%2F09.+CFEC%2Ftest.csv',\n",
       "  'submission.csv': 'http://sk.jaen.kr/download?download_path=%2Fdata%2Ffiles%2FmySUNI%2F05.+%EB%8D%B0%EC%9D%B4%ED%84%B0%ED%8C%8C%EC%9D%BC%2Fproject%2F09.+CFEC%2Fsubmission.csv'},\n",
       " '운전자 보험 청구 확률 예측': {'train.csv': 'http://sk.jaen.kr:8080/project/10. PSSDP/train.csv',\n",
       "  'test.csv': 'http://sk.jaen.kr:8080/project/10. PSSDP/test.csv',\n",
       "  'submission.csv': 'http://sk.jaen.kr:8080/project/10. PSSDP/submission.csv'},\n",
       " '에너지 사용량 예측': {'data.zip': 'http://sk.jaen.kr:8080/project/11. GEP/data'},\n",
       " '개 고양이 분류': {'train.zip': 'https://www.dropbox.com/s/vcq6typ3sw65kb3/train.zip?dl=1',\n",
       "  'test.zip': 'https://www.dropbox.com/s/zcifc1nnzpn971z/test.zip?dl=1',\n",
       "  'submission.csv': 'https://www.dropbox.com/s/yfi79nde5ubbvni/submission.csv?dl=1'},\n",
       " '의료 보험비 예측': {'train.zip': 'https://www.dropbox.com/s/m9y102hqgky91q2/medical_charges_train.csv?dl=1',\n",
       "  'test.zip': 'https://www.dropbox.com/s/p8rpvihzm5qxuw1/medical_charges_test.csv?dl=1',\n",
       "  'submission.csv': 'https://www.dropbox.com/s/qfhn8a18m5wj6m1/medical_charges_submission.csv?dl=1'}}"
      ]
     },
     "execution_count": 4,
     "metadata": {},
     "output_type": "execute_result"
    }
   ],
   "source": [
    "project"
   ]
  },
  {
   "cell_type": "code",
   "execution_count": 8,
   "metadata": {},
   "outputs": [],
   "source": [
    "with open('../mySUNI/data/project.json', 'w') as f:\n",
    "    json.dump(project, f)"
   ]
  },
  {
   "cell_type": "code",
   "execution_count": 9,
   "metadata": {},
   "outputs": [
    {
     "data": {
      "text/plain": [
       "{'타이타닉 생존자 예측': {'train.csv': 'http://sk.jaen.kr:8080/project/00.Titanic/train.csv',\n",
       "  'test.csv': 'http://sk.jaen.kr:8080/project/00.Titanic/test.csv',\n",
       "  'submission.csv': 'http://sk.jaen.kr:8080/project/00.Titanic/submission.csv'},\n",
       " '자전거 대여량 예측': {'train.csv': 'http://sk.jaen.kr:8080/project/01.Bike-Demand-Prediction/train.csv',\n",
       "  'test.csv': 'http://sk.jaen.kr:8080/project/01.Bike-Demand-Prediction/test.csv',\n",
       "  'submission.csv': 'http://sk.jaen.kr:8080/project/01.Bike-Demand-Prediction/submission.csv'},\n",
       " '상품 구매 예측': {'train.csv': 'http://sk.jaen.kr:8080/project/02.ECommerce-Customer-Purchase-Classification/train.csv',\n",
       "  'test.csv': 'http://sk.jaen.kr:8080/project/02.ECommerce-Customer-Purchase-Classification/test.csv',\n",
       "  'submission.csv': 'http://sk.jaen.kr:8080/project/02.ECommerce-Customer-Purchase-Classification/submission.csv'},\n",
       " '주택 가격 예측': {'train.csv': 'http://sk.jaen.kr:8080/project/04.House-Prices-Prediction/train.csv',\n",
       "  'test.csv': 'http://sk.jaen.kr:8080/project/04.House-Prices-Prediction/test.csv',\n",
       "  'submission.csv': 'http://sk.jaen.kr:8080/project/04.House-Prices-Prediction/submission.csv'},\n",
       " '대출 상환 능력 예측': {'data.zip': 'https://www.dropbox.com/s/y96aywou688ill2/data.zip?dl=1'},\n",
       " '웨이퍼 맵 불량 유형 분류': {'train.csv': 'http://sk.jaen.kr:8080/project/05.Wafer-Map-Defect-Classification/train.csv',\n",
       "  'test.csv': 'http://sk.jaen.kr:8080/project/05.Wafer-Map-Defect-Classification/test.csv',\n",
       "  'submission.csv': 'http://sk.jaen.kr:8080/project/05.Wafer-Map-Defect-Classification/submission.csv'},\n",
       " '빌딩 전력 소모량 예측': {'train.csv': 'http://sk.jaen.kr:8080/project/06.Building-Energy-Prediction/train.csv',\n",
       "  'test.csv': 'http://sk.jaen.kr:8080/project/06.Building-Energy-Prediction/test.csv',\n",
       "  'submission.csv': 'http://sk.jaen.kr:8080/project/06.Building-Energy-Prediction/submission.csv'},\n",
       " '따릉이 대여량 예측': {'train.csv': 'http://sk.jaen.kr:8080/project/08.Seoul-Bicycle/seoul_bicycle_train.csv',\n",
       "  'test.csv': 'http://sk.jaen.kr:8080/project/08.Seoul-Bicycle/seoul_bicycle_test.csv',\n",
       "  'submission.csv': 'http://sk.jaen.kr:8080/project/08.Seoul-Bicycle/seoul_bicycle_submission.csv'},\n",
       " 'SK GAS 사용자 구매 예측': {'train.csv': 'https://www.dropbox.com/s/2rhdsepy9t9a324/SK_GAS_PROJECT_TRAIN.csv?dl=1',\n",
       "  'submission.csv': 'https://www.dropbox.com/s/l9dmhmwfexveum3/SK_GAS_PROJECT_SAMPLE_SUBMISSION.csv?dl=1'},\n",
       " '패션이미지 분류': {'train.csv': 'https://www.dropbox.com/s/e5n10bepgfvuyng/train.csv?dl=1',\n",
       "  'test.csv': 'https://www.dropbox.com/s/cliuhx4iijf3ywh/test.csv?dl=1',\n",
       "  'submission.csv': 'https://www.dropbox.com/s/202420nkejdsxja/sample_submission.csv?dl=1'},\n",
       " '손글씨 이미지 분류': {'train.csv': 'https://www.dropbox.com/s/e5n10bepgfvuyng/train.csv?dl=1',\n",
       "  'test.csv': 'https://www.dropbox.com/s/cliuhx4iijf3ywh/test.csv?dl=1',\n",
       "  'submission.csv': 'https://www.dropbox.com/s/202420nkejdsxja/sample_submission.csv?dl=1'},\n",
       " '영화리뷰 감정 분석': {'train.csv': 'https://www.dropbox.com/s/6a8npsozoobug8z/train.csv?dl=1',\n",
       "  'test.csv': 'https://www.dropbox.com/s/dxzutwpnae55pba/test.csv?dl=1',\n",
       "  'submission.csv': 'https://www.dropbox.com/s/4pjk1q7pcde8e93/submission.csv?dl=1'},\n",
       " '성인 소득 분류': {'train.csv': 'https://www.dropbox.com/s/hq9hyakk3xv2prr/train.csv?dl=1',\n",
       "  'test.csv': 'https://www.dropbox.com/s/3zq381jdqmcbgpg/test.csv?dl=1',\n",
       "  'submission.csv': 'https://www.dropbox.com/s/6kx87renmtpe7pz/submission.csv?dl=1'},\n",
       " '전력 사용량 예측': {'train.csv': 'https://www.dropbox.com/s/hv7wtnir2rsvy3p/elec-train.csv?dl=1',\n",
       "  'test.csv': 'https://www.dropbox.com/s/tv4c5vcc2dx0fi2/elec-test.csv?dl=1',\n",
       "  'submission.csv': 'https://www.dropbox.com/s/n1ddgdlhok8bebl/elec-submission.csv?dl=1'},\n",
       " '중고차 가격 예측': {'train.csv': 'https://www.dropbox.com/s/n6ggjpxcbc9rgeq/train.csv?dl=1',\n",
       "  'test.csv': 'https://www.dropbox.com/s/ts6p3bpe7rmlbub/test.csv?dl=1',\n",
       "  'submission.csv': 'https://www.dropbox.com/s/veort5hy2t09smx/submission.csv?dl=1'},\n",
       " '공유 킥보드 대여량 예측': {'train.csv': 'https://www.dropbox.com/s/86p8vl9dsjjzdvw/train.csv?dl=1',\n",
       "  'test.csv': 'https://www.dropbox.com/s/72fz3ltervbpyn6/test.csv?dl=1',\n",
       "  'submission.csv': 'https://www.dropbox.com/s/ezkolhde02da9bf/submission.csv?dl=1'},\n",
       " '범주형 데이터 이진분류': {'train.csv': 'http://sk.jaen.kr/download?download_path=%2Fdata%2Ffiles%2FmySUNI%2F05.+%EB%8D%B0%EC%9D%B4%ED%84%B0%ED%8C%8C%EC%9D%BC%2Fproject%2F09.+CFEC%2Ftrain.csv',\n",
       "  'test.csv': 'http://sk.jaen.kr/download?download_path=%2Fdata%2Ffiles%2FmySUNI%2F05.+%EB%8D%B0%EC%9D%B4%ED%84%B0%ED%8C%8C%EC%9D%BC%2Fproject%2F09.+CFEC%2Ftest.csv',\n",
       "  'submission.csv': 'http://sk.jaen.kr/download?download_path=%2Fdata%2Ffiles%2FmySUNI%2F05.+%EB%8D%B0%EC%9D%B4%ED%84%B0%ED%8C%8C%EC%9D%BC%2Fproject%2F09.+CFEC%2Fsubmission.csv'},\n",
       " '운전자 보험 청구 확률 예측': {'train.csv': 'http://sk.jaen.kr:8080/project/10. PSSDP/train.csv',\n",
       "  'test.csv': 'http://sk.jaen.kr:8080/project/10. PSSDP/test.csv',\n",
       "  'submission.csv': 'http://sk.jaen.kr:8080/project/10. PSSDP/submission.csv'},\n",
       " '에너지 사용량 예측': {'data.zip': 'http://sk.jaen.kr:8080/project/11. GEP/data'},\n",
       " '개 고양이 분류': {'train.zip': 'https://www.dropbox.com/s/vcq6typ3sw65kb3/train.zip?dl=1',\n",
       "  'test.zip': 'https://www.dropbox.com/s/zcifc1nnzpn971z/test.zip?dl=1',\n",
       "  'submission.csv': 'https://www.dropbox.com/s/yfi79nde5ubbvni/submission.csv?dl=1'},\n",
       " '의료 보험비 예측': {'train.csv': 'https://www.dropbox.com/s/m9y102hqgky91q2/medical_charges_train.csv?dl=1',\n",
       "  'test.csv': 'https://www.dropbox.com/s/p8rpvihzm5qxuw1/medical_charges_test.csv?dl=1',\n",
       "  'submission.csv': 'https://www.dropbox.com/s/qfhn8a18m5wj6m1/medical_charges_submission.csv?dl=1'}}"
      ]
     },
     "execution_count": 9,
     "metadata": {},
     "output_type": "execute_result"
    }
   ],
   "source": [
    "project"
   ]
  },
  {
   "cell_type": "code",
   "execution_count": null,
   "metadata": {},
   "outputs": [],
   "source": []
  }
 ],
 "metadata": {
  "kernelspec": {
   "display_name": "Python 3",
   "language": "python",
   "name": "python3"
  },
  "language_info": {
   "codemirror_mode": {
    "name": "ipython",
    "version": 3
   },
   "file_extension": ".py",
   "mimetype": "text/x-python",
   "name": "python",
   "nbconvert_exporter": "python",
   "pygments_lexer": "ipython3",
   "version": "3.7.10"
  }
 },
 "nbformat": 4,
 "nbformat_minor": 4
}
