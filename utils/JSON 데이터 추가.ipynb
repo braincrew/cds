{
 "cells": [
  {
   "cell_type": "markdown",
   "metadata": {},
   "source": [
    "# DataSet 추가"
   ]
  },
  {
   "cell_type": "code",
   "execution_count": 1,
   "metadata": {},
   "outputs": [],
   "source": [
    "import json\n",
    "with open('../mySUNI/data/dataset.json', 'r') as f:\n",
    "    dataset = json.load(f)"
   ]
  },
  {
   "cell_type": "code",
   "execution_count": 5,
   "metadata": {},
   "outputs": [],
   "source": [
    "# 데이터 추가\n",
    "dataset[데이터세트이름] = {\n",
    "    'info' : 데이터세트 설명문,\n",
    "    'data' : [다운로드 링크, ],\n",
    "    'filename': [저장할 파일명, ]\n",
    "}"
   ]
  },
  {
   "cell_type": "code",
   "execution_count": 3,
   "metadata": {},
   "outputs": [],
   "source": [
    "with open('../mySUNI/data/dataset.json', 'w') as f:\n",
    "    json.dump(dataset, f)"
   ]
  },
  {
   "cell_type": "markdown",
   "metadata": {},
   "source": [
    "# Project 추가"
   ]
  },
  {
   "cell_type": "code",
   "execution_count": 9,
   "metadata": {},
   "outputs": [
    {
     "ename": "JSONDecodeError",
     "evalue": "Expecting value: line 1 column 1 (char 0)",
     "output_type": "error",
     "traceback": [
      "\u001b[1;31m---------------------------------------------------------------------------\u001b[0m",
      "\u001b[1;31mJSONDecodeError\u001b[0m                           Traceback (most recent call last)",
      "\u001b[1;32m<ipython-input-9-5377ff0bbcd7>\u001b[0m in \u001b[0;36m<module>\u001b[1;34m\u001b[0m\n\u001b[0;32m      1\u001b[0m \u001b[1;32mimport\u001b[0m \u001b[0mjson\u001b[0m\u001b[1;33m\u001b[0m\u001b[1;33m\u001b[0m\u001b[0m\n\u001b[0;32m      2\u001b[0m \u001b[1;32mwith\u001b[0m \u001b[0mopen\u001b[0m\u001b[1;33m(\u001b[0m\u001b[1;34m'../mySUNI/data/project.json'\u001b[0m\u001b[1;33m,\u001b[0m \u001b[1;34m'r'\u001b[0m\u001b[1;33m)\u001b[0m \u001b[1;32mas\u001b[0m \u001b[0mf\u001b[0m\u001b[1;33m:\u001b[0m\u001b[1;33m\u001b[0m\u001b[1;33m\u001b[0m\u001b[0m\n\u001b[1;32m----> 3\u001b[1;33m     \u001b[0mproject\u001b[0m \u001b[1;33m=\u001b[0m \u001b[0mjson\u001b[0m\u001b[1;33m.\u001b[0m\u001b[0mload\u001b[0m\u001b[1;33m(\u001b[0m\u001b[0mf\u001b[0m\u001b[1;33m)\u001b[0m\u001b[1;33m\u001b[0m\u001b[1;33m\u001b[0m\u001b[0m\n\u001b[0m",
      "\u001b[1;32m~\\anaconda3\\lib\\json\\__init__.py\u001b[0m in \u001b[0;36mload\u001b[1;34m(fp, cls, object_hook, parse_float, parse_int, parse_constant, object_pairs_hook, **kw)\u001b[0m\n\u001b[0;32m    291\u001b[0m     \u001b[0mkwarg\u001b[0m\u001b[1;33m;\u001b[0m \u001b[0motherwise\u001b[0m\u001b[0;31m \u001b[0m\u001b[0;31m`\u001b[0m\u001b[0;31m`\u001b[0m\u001b[0mJSONDecoder\u001b[0m\u001b[0;31m`\u001b[0m\u001b[0;31m`\u001b[0m \u001b[1;32mis\u001b[0m \u001b[0mused\u001b[0m\u001b[1;33m.\u001b[0m\u001b[1;33m\u001b[0m\u001b[1;33m\u001b[0m\u001b[0m\n\u001b[0;32m    292\u001b[0m     \"\"\"\n\u001b[1;32m--> 293\u001b[1;33m     return loads(fp.read(),\n\u001b[0m\u001b[0;32m    294\u001b[0m         \u001b[0mcls\u001b[0m\u001b[1;33m=\u001b[0m\u001b[0mcls\u001b[0m\u001b[1;33m,\u001b[0m \u001b[0mobject_hook\u001b[0m\u001b[1;33m=\u001b[0m\u001b[0mobject_hook\u001b[0m\u001b[1;33m,\u001b[0m\u001b[1;33m\u001b[0m\u001b[1;33m\u001b[0m\u001b[0m\n\u001b[0;32m    295\u001b[0m         \u001b[0mparse_float\u001b[0m\u001b[1;33m=\u001b[0m\u001b[0mparse_float\u001b[0m\u001b[1;33m,\u001b[0m \u001b[0mparse_int\u001b[0m\u001b[1;33m=\u001b[0m\u001b[0mparse_int\u001b[0m\u001b[1;33m,\u001b[0m\u001b[1;33m\u001b[0m\u001b[1;33m\u001b[0m\u001b[0m\n",
      "\u001b[1;32m~\\anaconda3\\lib\\json\\__init__.py\u001b[0m in \u001b[0;36mloads\u001b[1;34m(s, cls, object_hook, parse_float, parse_int, parse_constant, object_pairs_hook, **kw)\u001b[0m\n\u001b[0;32m    355\u001b[0m             \u001b[0mparse_int\u001b[0m \u001b[1;32mis\u001b[0m \u001b[1;32mNone\u001b[0m \u001b[1;32mand\u001b[0m \u001b[0mparse_float\u001b[0m \u001b[1;32mis\u001b[0m \u001b[1;32mNone\u001b[0m \u001b[1;32mand\u001b[0m\u001b[1;33m\u001b[0m\u001b[1;33m\u001b[0m\u001b[0m\n\u001b[0;32m    356\u001b[0m             parse_constant is None and object_pairs_hook is None and not kw):\n\u001b[1;32m--> 357\u001b[1;33m         \u001b[1;32mreturn\u001b[0m \u001b[0m_default_decoder\u001b[0m\u001b[1;33m.\u001b[0m\u001b[0mdecode\u001b[0m\u001b[1;33m(\u001b[0m\u001b[0ms\u001b[0m\u001b[1;33m)\u001b[0m\u001b[1;33m\u001b[0m\u001b[1;33m\u001b[0m\u001b[0m\n\u001b[0m\u001b[0;32m    358\u001b[0m     \u001b[1;32mif\u001b[0m \u001b[0mcls\u001b[0m \u001b[1;32mis\u001b[0m \u001b[1;32mNone\u001b[0m\u001b[1;33m:\u001b[0m\u001b[1;33m\u001b[0m\u001b[1;33m\u001b[0m\u001b[0m\n\u001b[0;32m    359\u001b[0m         \u001b[0mcls\u001b[0m \u001b[1;33m=\u001b[0m \u001b[0mJSONDecoder\u001b[0m\u001b[1;33m\u001b[0m\u001b[1;33m\u001b[0m\u001b[0m\n",
      "\u001b[1;32m~\\anaconda3\\lib\\json\\decoder.py\u001b[0m in \u001b[0;36mdecode\u001b[1;34m(self, s, _w)\u001b[0m\n\u001b[0;32m    335\u001b[0m \u001b[1;33m\u001b[0m\u001b[0m\n\u001b[0;32m    336\u001b[0m         \"\"\"\n\u001b[1;32m--> 337\u001b[1;33m         \u001b[0mobj\u001b[0m\u001b[1;33m,\u001b[0m \u001b[0mend\u001b[0m \u001b[1;33m=\u001b[0m \u001b[0mself\u001b[0m\u001b[1;33m.\u001b[0m\u001b[0mraw_decode\u001b[0m\u001b[1;33m(\u001b[0m\u001b[0ms\u001b[0m\u001b[1;33m,\u001b[0m \u001b[0midx\u001b[0m\u001b[1;33m=\u001b[0m\u001b[0m_w\u001b[0m\u001b[1;33m(\u001b[0m\u001b[0ms\u001b[0m\u001b[1;33m,\u001b[0m \u001b[1;36m0\u001b[0m\u001b[1;33m)\u001b[0m\u001b[1;33m.\u001b[0m\u001b[0mend\u001b[0m\u001b[1;33m(\u001b[0m\u001b[1;33m)\u001b[0m\u001b[1;33m)\u001b[0m\u001b[1;33m\u001b[0m\u001b[1;33m\u001b[0m\u001b[0m\n\u001b[0m\u001b[0;32m    338\u001b[0m         \u001b[0mend\u001b[0m \u001b[1;33m=\u001b[0m \u001b[0m_w\u001b[0m\u001b[1;33m(\u001b[0m\u001b[0ms\u001b[0m\u001b[1;33m,\u001b[0m \u001b[0mend\u001b[0m\u001b[1;33m)\u001b[0m\u001b[1;33m.\u001b[0m\u001b[0mend\u001b[0m\u001b[1;33m(\u001b[0m\u001b[1;33m)\u001b[0m\u001b[1;33m\u001b[0m\u001b[1;33m\u001b[0m\u001b[0m\n\u001b[0;32m    339\u001b[0m         \u001b[1;32mif\u001b[0m \u001b[0mend\u001b[0m \u001b[1;33m!=\u001b[0m \u001b[0mlen\u001b[0m\u001b[1;33m(\u001b[0m\u001b[0ms\u001b[0m\u001b[1;33m)\u001b[0m\u001b[1;33m:\u001b[0m\u001b[1;33m\u001b[0m\u001b[1;33m\u001b[0m\u001b[0m\n",
      "\u001b[1;32m~\\anaconda3\\lib\\json\\decoder.py\u001b[0m in \u001b[0;36mraw_decode\u001b[1;34m(self, s, idx)\u001b[0m\n\u001b[0;32m    353\u001b[0m             \u001b[0mobj\u001b[0m\u001b[1;33m,\u001b[0m \u001b[0mend\u001b[0m \u001b[1;33m=\u001b[0m \u001b[0mself\u001b[0m\u001b[1;33m.\u001b[0m\u001b[0mscan_once\u001b[0m\u001b[1;33m(\u001b[0m\u001b[0ms\u001b[0m\u001b[1;33m,\u001b[0m \u001b[0midx\u001b[0m\u001b[1;33m)\u001b[0m\u001b[1;33m\u001b[0m\u001b[1;33m\u001b[0m\u001b[0m\n\u001b[0;32m    354\u001b[0m         \u001b[1;32mexcept\u001b[0m \u001b[0mStopIteration\u001b[0m \u001b[1;32mas\u001b[0m \u001b[0merr\u001b[0m\u001b[1;33m:\u001b[0m\u001b[1;33m\u001b[0m\u001b[1;33m\u001b[0m\u001b[0m\n\u001b[1;32m--> 355\u001b[1;33m             \u001b[1;32mraise\u001b[0m \u001b[0mJSONDecodeError\u001b[0m\u001b[1;33m(\u001b[0m\u001b[1;34m\"Expecting value\"\u001b[0m\u001b[1;33m,\u001b[0m \u001b[0ms\u001b[0m\u001b[1;33m,\u001b[0m \u001b[0merr\u001b[0m\u001b[1;33m.\u001b[0m\u001b[0mvalue\u001b[0m\u001b[1;33m)\u001b[0m \u001b[1;32mfrom\u001b[0m \u001b[1;32mNone\u001b[0m\u001b[1;33m\u001b[0m\u001b[1;33m\u001b[0m\u001b[0m\n\u001b[0m\u001b[0;32m    356\u001b[0m         \u001b[1;32mreturn\u001b[0m \u001b[0mobj\u001b[0m\u001b[1;33m,\u001b[0m \u001b[0mend\u001b[0m\u001b[1;33m\u001b[0m\u001b[1;33m\u001b[0m\u001b[0m\n",
      "\u001b[1;31mJSONDecodeError\u001b[0m: Expecting value: line 1 column 1 (char 0)"
     ]
    }
   ],
   "source": [
    "import json\n",
    "with open('../mySUNI/data/project.json', 'r') as f:\n",
    "    project = json.load(f)"
   ]
  },
  {
   "cell_type": "code",
   "execution_count": 6,
   "metadata": {},
   "outputs": [
    {
     "data": {
      "text/plain": [
       "{'building_metadata.csv': 'http://sk.jaen.kr:8080/project/06.Building-Energy-Prediction/building_metadata.csv',\n",
       " 'submission.csv': 'http://sk.jaen.kr:8080/project/06.Building-Energy-Prediction/submission.csv',\n",
       " 'test.csv': 'http://sk.jaen.kr:8080/project/06.Building-Energy-Prediction/test.csv',\n",
       " 'train.csv': 'http://sk.jaen.kr:8080/project/06.Building-Energy-Prediction/train.csv',\n",
       " 'weather_test.csv': 'http://sk.jaen.kr:8080/project/06.Building-Energy-Prediction/weather_test.csv',\n",
       " 'weather_train.csv': 'http://sk.jaen.kr:8080/project/06.Building-Energy-Prediction/weather_train.csv'}"
      ]
     },
     "execution_count": 6,
     "metadata": {},
     "output_type": "execute_result"
    }
   ],
   "source": [
    "project['빌딩 전력 소모량 예측']"
   ]
  },
  {
   "cell_type": "code",
   "execution_count": 9,
   "metadata": {},
   "outputs": [],
   "source": [
    "project[프로젝트 이름] = {\n",
    "    저장할 파일명 : 다운로드 링크,\n",
    "}"
   ]
  },
  {
   "cell_type": "code",
   "execution_count": 9,
   "metadata": {},
   "outputs": [],
   "source": [
    "project['빌딩 전력 소모량 예측'] = {'building_metadata.csv': 'http://sk.jaen.kr:8080/project/06.Building-Energy-Prediction/building_metadata.csv',\n",
    " 'submission.csv': 'http://sk.jaen.kr:8080/project/06.Building-Energy-Prediction/submission.csv',\n",
    " 'test.csv': 'http://sk.jaen.kr:8080/project/06.Building-Energy-Prediction/test.csv',\n",
    " 'train.csv': 'http://sk.jaen.kr:8080/project/06.Building-Energy-Prediction/train.csv',\n",
    " 'weather_test.csv': 'http://sk.jaen.kr:8080/project/06.Building-Energy-Prediction/weather_test.csv',\n",
    " 'weather_train.csv': 'http://sk.jaen.kr:8080/project/06.Building-Energy-Prediction/weather_train.csv'\n",
    "}\n"
   ]
  },
  {
   "cell_type": "code",
   "execution_count": 12,
   "metadata": {},
   "outputs": [],
   "source": [
    "project['빌딩 전력 소모량 예측'] = {\n",
    " 'train.csv': 'http://sk.jaen.kr:8080/project/06.Building-Energy-Prediction/train.csv',\n",
    " 'test.csv': 'http://sk.jaen.kr:8080/project/06.Building-Energy-Prediction/test.csv',\n",
    " 'submission.csv': 'http://sk.jaen.kr:8080/project/06.Building-Energy-Prediction/submission.csv'\n",
    "}"
   ]
  },
  {
   "cell_type": "code",
   "execution_count": 10,
   "metadata": {},
   "outputs": [],
   "source": [
    "project = {\"\\ud0c0\\uc774\\ud0c0\\ub2c9 \\uc0dd\\uc874\\uc790 \\uc608\\uce21\": {\"train.csv\": \"http://sk.jaen.kr:8080/project/00.Titanic/train.csv\", \"test.csv\": \"http://sk.jaen.kr:8080/project/00.Titanic/test.csv\", \"submission.csv\": \"http://sk.jaen.kr:8080/project/00.Titanic/submission.csv\"}, \"\\uc790\\uc804\\uac70 \\ub300\\uc5ec\\ub7c9 \\uc608\\uce21\": {\"train.csv\": \"http://sk.jaen.kr:8080/project/01.Bike-Demand-Prediction/train.csv\", \"test.csv\": \"http://sk.jaen.kr:8080/project/01.Bike-Demand-Prediction/test.csv\", \"submission.csv\": \"http://sk.jaen.kr:8080/project/01.Bike-Demand-Prediction/submission.csv\"}, \"\\uc0c1\\ud488 \\uad6c\\ub9e4 \\uc608\\uce21\": {\"train.csv\": \"http://sk.jaen.kr:8080/project/02.ECommerce-Customer-Purchase-Classification/train.csv\", \"test.csv\": \"http://sk.jaen.kr:8080/project/02.ECommerce-Customer-Purchase-Classification/test.csv\", \"submission.csv\": \"http://sk.jaen.kr:8080/project/02.ECommerce-Customer-Purchase-Classification/submission.csv\"}, \"\\uc8fc\\ud0dd \\uac00\\uaca9 \\uc608\\uce21\": {\"train.csv\": \"http://sk.jaen.kr:8080/project/04.House-Prices-Prediction/train.csv\", \"test.csv\": \"http://sk.jaen.kr:8080/project/04.House-Prices-Prediction/test.csv\", \"submission.csv\": \"http://sk.jaen.kr:8080/project/04.House-Prices-Prediction/submission.csv\"}, \"\\ub300\\ucd9c \\uc0c1\\ud658 \\ub2a5\\ub825 \\uc608\\uce21\": {\"train.csv\": \"http://sk.jaen.kr:8080/project/03.Home-Credit-Risk-Classification/train.csv\", \"test.csv\": \"http://sk.jaen.kr:8080/project/03.Home-Credit-Risk-Classification/test.csv\", \"submission.csv\": \"http://sk.jaen.kr:8080/project/03.Home-Credit-Risk-Classification/submission.csv\", \"bureau.csv\": \"http://sk.jaen.kr:8080/project/03.Home-Credit-Risk-Classification/bureau.csv\", \"bureau_balance.csv\": \"http://sk.jaen.kr:8080/project/03.Home-Credit-Risk-Classification/bureau_balance.csv\", \"credit_card_balance.csv\": \"http://sk.jaen.kr:8080/project/03.Home-Credit-Risk-Classification/credit_card_balance.csv\", \"installments_payments.csv\": \"http://sk.jaen.kr:8080/project/03.Home-Credit-Risk-Classification/installments_payments.csv\", \"POS_CASH_balance.csv\": \"http://sk.jaen.kr:8080/project/03.Home-Credit-Risk-Classification/POS_CASH_balance.csv\", \"previous_application.csv\": \"http://sk.jaen.kr:8080/project/03.Home-Credit-Risk-Classification/previous_application.csv\"}, \"\\uc6e8\\uc774\\ud37c \\ub9f5 \\ubd88\\ub7c9 \\uc720\\ud615 \\ubd84\\ub958\": {\"train.csv\": \"http://sk.jaen.kr:8080/project/05.Wafer-Map-Defect-Classification/train.csv\", \"test.csv\": \"http://sk.jaen.kr:8080/project/05.Wafer-Map-Defect-Classification/test.csv\", \"submission.csv\": \"http://sk.jaen.kr:8080/project/05.Wafer-Map-Defect-Classification/submission.csv\"}, \"\\ube4c\\ub529 \\uc804\\ub825 \\uc18c\\ubaa8\\ub7c9 \\uc608\\uce21\": {\"building_metadata.csv\": \"http://sk.jaen.kr:8080/project/06.Building-Energy-Prediction/building_metadata.csv\", \"submission.csv\": \"http://sk.jaen.kr:8080/project/06.Building-Energy-Prediction/submission.csv\", \"test.csv\": \"http://sk.jaen.kr:8080/project/06.Building-Energy-Prediction/test.csv\", \"train.csv\": \"http://sk.jaen.kr:8080/project/06.Building-Energy-Prediction/train.csv\", \"weather_test.csv\": \"http://sk.jaen.kr:8080/project/06.Building-Energy-Prediction/weather_test.csv\", \"weather_train.csv\": \"http://sk.jaen.kr:8080/project/06.Building-Energy-Prediction/weather_train.csv\"}, \"\\ub530\\ub989\\uc774 \\ub300\\uc5ec\\ub7c9 \\uc608\\uce21\": {\"train.csv\": \"http://sk.jaen.kr:8080/project/08.Seoul-Bicycle/seoul_bicycle_train.csv\", \"test.csv\": \"http://sk.jaen.kr:8080/project/08.Seoul-Bicycle/seoul_bicycle_test.csv\", \"submission.csv\": \"http://sk.jaen.kr:8080/project/08.Seoul-Bicycle/seoul_bicycle_submission.csv\"}}"
   ]
  },
  {
   "cell_type": "code",
   "execution_count": 13,
   "metadata": {},
   "outputs": [],
   "source": [
    "with open('../mySUNI/data/project.json', 'w') as f:\n",
    "    json.dump(project, f)"
   ]
  },
  {
   "cell_type": "code",
   "execution_count": 11,
   "metadata": {},
   "outputs": [
    {
     "data": {
      "text/plain": [
       "{'타이타닉 생존자 예측': {'train.csv': 'http://sk.jaen.kr:8080/project/00.Titanic/train.csv',\n",
       "  'test.csv': 'http://sk.jaen.kr:8080/project/00.Titanic/test.csv',\n",
       "  'submission.csv': 'http://sk.jaen.kr:8080/project/00.Titanic/submission.csv'},\n",
       " '자전거 대여량 예측': {'train.csv': 'http://sk.jaen.kr:8080/project/01.Bike-Demand-Prediction/train.csv',\n",
       "  'test.csv': 'http://sk.jaen.kr:8080/project/01.Bike-Demand-Prediction/test.csv',\n",
       "  'submission.csv': 'http://sk.jaen.kr:8080/project/01.Bike-Demand-Prediction/submission.csv'},\n",
       " '상품 구매 예측': {'train.csv': 'http://sk.jaen.kr:8080/project/02.ECommerce-Customer-Purchase-Classification/train.csv',\n",
       "  'test.csv': 'http://sk.jaen.kr:8080/project/02.ECommerce-Customer-Purchase-Classification/test.csv',\n",
       "  'submission.csv': 'http://sk.jaen.kr:8080/project/02.ECommerce-Customer-Purchase-Classification/submission.csv'},\n",
       " '주택 가격 예측': {'train.csv': 'http://sk.jaen.kr:8080/project/04.House-Prices-Prediction/train.csv',\n",
       "  'test.csv': 'http://sk.jaen.kr:8080/project/04.House-Prices-Prediction/test.csv',\n",
       "  'submission.csv': 'http://sk.jaen.kr:8080/project/04.House-Prices-Prediction/submission.csv'},\n",
       " '대출 상환 능력 예측': {'train.csv': 'http://sk.jaen.kr:8080/project/03.Home-Credit-Risk-Classification/train.csv',\n",
       "  'test.csv': 'http://sk.jaen.kr:8080/project/03.Home-Credit-Risk-Classification/test.csv',\n",
       "  'submission.csv': 'http://sk.jaen.kr:8080/project/03.Home-Credit-Risk-Classification/submission.csv',\n",
       "  'bureau.csv': 'http://sk.jaen.kr:8080/project/03.Home-Credit-Risk-Classification/bureau.csv',\n",
       "  'bureau_balance.csv': 'http://sk.jaen.kr:8080/project/03.Home-Credit-Risk-Classification/bureau_balance.csv',\n",
       "  'credit_card_balance.csv': 'http://sk.jaen.kr:8080/project/03.Home-Credit-Risk-Classification/credit_card_balance.csv',\n",
       "  'installments_payments.csv': 'http://sk.jaen.kr:8080/project/03.Home-Credit-Risk-Classification/installments_payments.csv',\n",
       "  'POS_CASH_balance.csv': 'http://sk.jaen.kr:8080/project/03.Home-Credit-Risk-Classification/POS_CASH_balance.csv',\n",
       "  'previous_application.csv': 'http://sk.jaen.kr:8080/project/03.Home-Credit-Risk-Classification/previous_application.csv'},\n",
       " '웨이퍼 맵 불량 유형 분류': {'train.csv': 'http://sk.jaen.kr:8080/project/05.Wafer-Map-Defect-Classification/train.csv',\n",
       "  'test.csv': 'http://sk.jaen.kr:8080/project/05.Wafer-Map-Defect-Classification/test.csv',\n",
       "  'submission.csv': 'http://sk.jaen.kr:8080/project/05.Wafer-Map-Defect-Classification/submission.csv'},\n",
       " '빌딩 전력 소모량 예측': {'building_metadata.csv': 'http://sk.jaen.kr:8080/project/06.Building-Energy-Prediction/building_metadata.csv',\n",
       "  'submission.csv': 'http://sk.jaen.kr:8080/project/06.Building-Energy-Prediction/submission.csv',\n",
       "  'test.csv': 'http://sk.jaen.kr:8080/project/06.Building-Energy-Prediction/test.csv',\n",
       "  'train.csv': 'http://sk.jaen.kr:8080/project/06.Building-Energy-Prediction/train.csv',\n",
       "  'weather_test.csv': 'http://sk.jaen.kr:8080/project/06.Building-Energy-Prediction/weather_test.csv',\n",
       "  'weather_train.csv': 'http://sk.jaen.kr:8080/project/06.Building-Energy-Prediction/weather_train.csv'},\n",
       " '따릉이 대여량 예측': {'train.csv': 'http://sk.jaen.kr:8080/project/08.Seoul-Bicycle/seoul_bicycle_train.csv',\n",
       "  'test.csv': 'http://sk.jaen.kr:8080/project/08.Seoul-Bicycle/seoul_bicycle_test.csv',\n",
       "  'submission.csv': 'http://sk.jaen.kr:8080/project/08.Seoul-Bicycle/seoul_bicycle_submission.csv'}}"
      ]
     },
     "execution_count": 11,
     "metadata": {},
     "output_type": "execute_result"
    }
   ],
   "source": [
    "project"
   ]
  },
  {
   "cell_type": "code",
   "execution_count": null,
   "metadata": {},
   "outputs": [],
   "source": []
  }
 ],
 "metadata": {
  "kernelspec": {
   "display_name": "Python 3",
   "language": "python",
   "name": "python3"
  },
  "language_info": {
   "codemirror_mode": {
    "name": "ipython",
    "version": 3
   },
   "file_extension": ".py",
   "mimetype": "text/x-python",
   "name": "python",
   "nbconvert_exporter": "python",
   "pygments_lexer": "ipython3",
   "version": "3.8.5"
  }
 },
 "nbformat": 4,
 "nbformat_minor": 4
}
